{
 "cells": [
  {
   "cell_type": "code",
   "execution_count": 4,
   "id": "ed32c780-c13f-4734-95c8-ac1f12cf7585",
   "metadata": {},
   "outputs": [
    {
     "name": "stdout",
     "output_type": "stream",
     "text": [
      "5050\n"
     ]
    }
   ],
   "source": [
    "sum = 0\n",
    "for i in range (0,101) :\n",
    "    sum += i\n",
    "print(sum)"
   ]
  },
  {
   "cell_type": "code",
   "execution_count": 5,
   "id": "a0fbd4cc-5914-440f-9076-c985eb682fa5",
   "metadata": {},
   "outputs": [
    {
     "name": "stdout",
     "output_type": "stream",
     "text": [
      "5050\n"
     ]
    }
   ],
   "source": [
    "print(sum)"
   ]
  },
  {
   "cell_type": "markdown",
   "id": "34b5e97a-875f-4fd0-84dc-0a180aca15ec",
   "metadata": {},
   "source": [
    "우와 주석도 된다 신기해\n",
    "### 내가 프로그래머다... ...\n",
    "마크다운은 다 거기서 거기구나\n",
    "* 디코도 노션도 다 똑같이 쓰는\n",
    "  * 이걸 다 마크다운이라 배우는 구만"
   ]
  },
  {
   "cell_type": "code",
   "execution_count": 7,
   "id": "f5ebf5da-371a-4d5e-9413-2f88a84df23c",
   "metadata": {},
   "outputs": [
    {
     "name": "stdout",
     "output_type": "stream",
     "text": [
      "[0, 2, 4, 6, 8, 10, 12, 14, 16, 18, 20, 22, 24, 26, 28, 30, 32, 34, 36, 38, 40, 42, 44, 46, 48, 50, 52, 54, 56, 58, 60, 62, 64, 66, 68, 70, 72, 74, 76, 78, 80, 82, 84, 86, 88, 90, 92, 94, 96, 98, 100]\n"
     ]
    }
   ],
   "source": [
    "numlist = []\n",
    "for i in range (0,101) :\n",
    "    if i%2==0:\n",
    "        numlist.append(i)\n",
    "print(numlist)"
   ]
  },
  {
   "cell_type": "code",
   "execution_count": null,
   "id": "7a61003d-1178-41e3-8e9f-6a25e3e195ab",
   "metadata": {},
   "outputs": [],
   "source": [
    "lotto = []\n",
    "for n in range(6"
   ]
  }
 ],
 "metadata": {
  "kernelspec": {
   "display_name": "Python 3 (ipykernel)",
   "language": "python",
   "name": "python3"
  },
  "language_info": {
   "codemirror_mode": {
    "name": "ipython",
    "version": 3
   },
   "file_extension": ".py",
   "mimetype": "text/x-python",
   "name": "python",
   "nbconvert_exporter": "python",
   "pygments_lexer": "ipython3",
   "version": "3.10.9"
  }
 },
 "nbformat": 4,
 "nbformat_minor": 5
}
